{
 "cells": [
  {
   "cell_type": "code",
   "execution_count": 1,
   "metadata": {},
   "outputs": [],
   "source": [
    "import json\n",
    "import numpy as np\n",
    "\n",
    "from scipy.stats import poisson\n",
    "from scipy.optimize import minimize\n",
    "\n",
    "import warnings\n",
    "warnings.filterwarnings('ignore')"
   ]
  },
  {
   "cell_type": "code",
   "execution_count": 2,
   "metadata": {},
   "outputs": [],
   "source": [
    "def generate_games(clubs, filename):\n",
    "    games = list()\n",
    "    for club1 in clubs:\n",
    "        for club2 in clubs:\n",
    "            if club1 == club2: continue\n",
    "            games.append(f'{club1} vs. {club2}\\n')\n",
    "\n",
    "    with open(filename, 'w') as f:\n",
    "        f.writelines(games)\n",
    "\n",
    "def preprocessing(competition, year):\n",
    "    with open(f'../data/BrazilianSoccerData/results/processed/{competition}_{year}_games.json', 'r') as f:\n",
    "        data = json.load(f)\n",
    "\n",
    "    inx = dict()\n",
    "    played_games = dict()\n",
    "    inx_count = 0\n",
    "    for game in data:\n",
    "        game = str(game).zfill(3)\n",
    "        home, away, result = data[game]['Home'], data[game]['Away'], data[game]['Result']\n",
    "        result = result.split(' X ')\n",
    "        result = [int(x) for x in result]\n",
    "        if home not in played_games: played_games[home] = list()\n",
    "        played_games[home].append([away, result])\n",
    "        if home not in inx:\n",
    "            inx[home] = dict()\n",
    "            inx[home]['Atk'] = inx_count\n",
    "            inx_count += 1\n",
    "            inx[home]['Def'] = inx_count\n",
    "            inx_count += 1\n",
    "\n",
    "    generate_games(list(played_games.keys()), f'{competition}_{year}.csv')\n",
    "    return played_games, inx\n",
    "\n",
    "def likelihood(parameters, played_games, inx):\n",
    "    lik = 0\n",
    "    for home in played_games:\n",
    "        for game in played_games[home]:\n",
    "            away, result = game\n",
    "            mu0 = parameters[inx[home]['Atk']] / parameters[inx[away]['Def']]\n",
    "            mu1 = parameters[inx[away]['Atk']] / parameters[inx[home]['Def']]\n",
    "            lik -= poisson.logpmf(result[0], mu0)\n",
    "            lik -= poisson.logpmf(result[1], mu1)\n",
    "\n",
    "    return lik\n",
    "\n",
    "def optimize_parameters(competition, year):\n",
    "    played_games, inx = preprocessing(competition, year)\n",
    "    parameters = np.random.random(40)\n",
    "    bounds = [(0, None) for _ in parameters]\n",
    "    bounds[0] = (1, 1)\n",
    "    res = minimize(likelihood, parameters, args = (played_games, inx), bounds = bounds)\n",
    "    parameters = res.x\n",
    "    for club in inx:\n",
    "        for force in inx[club]:\n",
    "            inx[club][force] = parameters[inx[club][force]]\n",
    "\n",
    "    parameters = inx\n",
    "    with open(f'parameters_{competition}_{year}.json', 'w') as f: json.dump(parameters, f)"
   ]
  },
  {
   "cell_type": "code",
   "execution_count": 3,
   "metadata": {},
   "outputs": [],
   "source": [
    "optimize_parameters('Serie_A', 2023)"
   ]
  },
  {
   "cell_type": "code",
   "execution_count": null,
   "metadata": {},
   "outputs": [],
   "source": []
  }
 ],
 "metadata": {
  "kernelspec": {
   "display_name": "Python 3",
   "language": "python",
   "name": "python3"
  },
  "language_info": {
   "codemirror_mode": {
    "name": "ipython",
    "version": 3
   },
   "file_extension": ".py",
   "mimetype": "text/x-python",
   "name": "python",
   "nbconvert_exporter": "python",
   "pygments_lexer": "ipython3",
   "version": "3.8.12"
  },
  "orig_nbformat": 4,
  "vscode": {
   "interpreter": {
    "hash": "68a818ea200cf26246555ed215b2805781440e4bd9c1dd7c5d891140b3a1e7c0"
   }
  }
 },
 "nbformat": 4,
 "nbformat_minor": 2
}
