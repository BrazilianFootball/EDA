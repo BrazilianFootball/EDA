{
 "cells": [
  {
   "cell_type": "code",
   "execution_count": 1,
   "metadata": {},
   "outputs": [
    {
     "name": "stdout",
     "output_type": "stream",
     "text": [
      "CmdStan install directory: /Users/igor.michels/.cmdstan\n",
      "CmdStan version 2.34.0 already installed\n",
      "Test model compilation\n"
     ]
    }
   ],
   "source": [
    "import cmdstanpy\n",
    "import numpy as np\n",
    "import pandas as pd\n",
    "\n",
    "from itertools import product\n",
    "cmdstanpy.install_cmdstan();"
   ]
  },
  {
   "cell_type": "code",
   "execution_count": 2,
   "metadata": {},
   "outputs": [],
   "source": [
    "def generate_matchups(n_equipes, habilidades, home_force):\n",
    "    if home_force is None: home_force = 0\n",
    "    confrontos = []\n",
    "    for equipe1, equipe2 in product(range(1, n_equipes + 1), repeat=2):\n",
    "        if equipe1 == equipe2: continue\n",
    "        prob = np.exp(habilidades[equipe1 - 1] + home_force)\n",
    "        prob = prob / (np.exp(habilidades[equipe1 - 1] + home_force) + np.exp(habilidades[equipe2 - 1]))\n",
    "        confrontos.append({\n",
    "            'equipe1': equipe1,\n",
    "            'equipe2': equipe2,\n",
    "            'vitoria_equipe1': (np.random.random() < prob) * 1\n",
    "        })\n",
    "\n",
    "    df_confrontos = pd.DataFrame(confrontos)\n",
    "\n",
    "    return df_confrontos\n",
    "\n",
    "def generate_seasons(n_equipes, habilidades, n_seasons, home_force=None):\n",
    "    df = pd.DataFrame()\n",
    "    for _ in range(n_seasons):\n",
    "        df = pd.concat([df, generate_matchups(n_equipes, habilidades, home_force)])\n",
    "    \n",
    "    return df"
   ]
  },
  {
   "cell_type": "code",
   "execution_count": 3,
   "metadata": {},
   "outputs": [
    {
     "name": "stderr",
     "output_type": "stream",
     "text": [
      "11:13:06 - cmdstanpy - INFO - compiling stan file /Users/igor.michels/Documents/FGV/BrazilianSoccerEDA/Modeling/models/model.stan to exe file /Users/igor.michels/Documents/FGV/BrazilianSoccerEDA/Modeling/models/model\n",
      "11:13:10 - cmdstanpy - INFO - compiled model executable: /Users/igor.michels/Documents/FGV/BrazilianSoccerEDA/Modeling/models/model\n",
      "11:13:11 - cmdstanpy - INFO - CmdStan start processing\n"
     ]
    },
    {
     "data": {
      "application/vnd.jupyter.widget-view+json": {
       "model_id": "216b16f5454f4fec991bcba96bb6d26a",
       "version_major": 2,
       "version_minor": 0
      },
      "text/plain": [
       "chain 1 |          | 00:00 Status"
      ]
     },
     "metadata": {},
     "output_type": "display_data"
    },
    {
     "data": {
      "application/vnd.jupyter.widget-view+json": {
       "model_id": "59528d386b5d4cfb9fa3dbc16fef127a",
       "version_major": 2,
       "version_minor": 0
      },
      "text/plain": [
       "chain 2 |          | 00:00 Status"
      ]
     },
     "metadata": {},
     "output_type": "display_data"
    },
    {
     "data": {
      "application/vnd.jupyter.widget-view+json": {
       "model_id": "d2372652ec5a487997832647de1c362d",
       "version_major": 2,
       "version_minor": 0
      },
      "text/plain": [
       "chain 3 |          | 00:00 Status"
      ]
     },
     "metadata": {},
     "output_type": "display_data"
    },
    {
     "data": {
      "application/vnd.jupyter.widget-view+json": {
       "model_id": "d2e6c6f31abd4012acb60ed0cac0b46a",
       "version_major": 2,
       "version_minor": 0
      },
      "text/plain": [
       "chain 4 |          | 00:00 Status"
      ]
     },
     "metadata": {},
     "output_type": "display_data"
    },
    {
     "name": "stdout",
     "output_type": "stream",
     "text": [
      "                                                                                                                                                                                                                                                                                                                                "
     ]
    },
    {
     "name": "stderr",
     "output_type": "stream",
     "text": [
      "11:13:22 - cmdstanpy - INFO - CmdStan done processing.\n"
     ]
    },
    {
     "name": "stdout",
     "output_type": "stream",
     "text": [
      "\n"
     ]
    },
    {
     "data": {
      "text/plain": [
       "0.95"
      ]
     },
     "execution_count": 3,
     "metadata": {},
     "output_type": "execute_result"
    }
   ],
   "source": [
    "num_seasons = 5\n",
    "num_equipes = 20\n",
    "habilidades = np.random.normal(0, 1, num_equipes)\n",
    "df = generate_seasons(num_equipes, habilidades, num_seasons)\n",
    "\n",
    "modelo_compilado = cmdstanpy.CmdStanModel(stan_file='../models/model.stan', force_compile=False)\n",
    "dados_modelo = {\n",
    "    'num_jogos': len(df),\n",
    "    'num_equipes': num_equipes,\n",
    "    'equipe1': df['equipe1'].values,\n",
    "    'equipe2': df['equipe2'].values,\n",
    "    'vitoria_equipe1': df['vitoria_equipe1'].values,\n",
    "}\n",
    "\n",
    "ajuste = modelo_compilado.sample(data=dados_modelo, chains=4, iter_warmup=2000, iter_sampling=10000, show_console=False)\n",
    "habilidades += ajuste.summary()['Mean']['habilidade[1]'] - habilidades[0]\n",
    "inside_ci = (habilidades > ajuste.summary()['5%'].values[1:])\n",
    "inside_ci *= ((habilidades < ajuste.summary()['95%'].values[1:]))\n",
    "sum(inside_ci) / num_equipes"
   ]
  },
  {
   "cell_type": "code",
   "execution_count": 4,
   "metadata": {},
   "outputs": [
    {
     "name": "stderr",
     "output_type": "stream",
     "text": [
      "11:13:24 - cmdstanpy - INFO - compiling stan file /Users/igor.michels/Documents/FGV/BrazilianSoccerEDA/Modeling/models/model_2.stan to exe file /Users/igor.michels/Documents/FGV/BrazilianSoccerEDA/Modeling/models/model_2\n",
      "11:13:28 - cmdstanpy - INFO - compiled model executable: /Users/igor.michels/Documents/FGV/BrazilianSoccerEDA/Modeling/models/model_2\n",
      "11:13:28 - cmdstanpy - INFO - CmdStan start processing\n"
     ]
    },
    {
     "data": {
      "application/vnd.jupyter.widget-view+json": {
       "model_id": "280772e6496c4e7aa8b2a1f834dd191a",
       "version_major": 2,
       "version_minor": 0
      },
      "text/plain": [
       "chain 1 |          | 00:00 Status"
      ]
     },
     "metadata": {},
     "output_type": "display_data"
    },
    {
     "data": {
      "application/vnd.jupyter.widget-view+json": {
       "model_id": "dbd0409e0049443e83f3f1ae4d4bbeed",
       "version_major": 2,
       "version_minor": 0
      },
      "text/plain": [
       "chain 2 |          | 00:00 Status"
      ]
     },
     "metadata": {},
     "output_type": "display_data"
    },
    {
     "data": {
      "application/vnd.jupyter.widget-view+json": {
       "model_id": "9b817a72d23f4966bae5cc99d79c2c62",
       "version_major": 2,
       "version_minor": 0
      },
      "text/plain": [
       "chain 3 |          | 00:00 Status"
      ]
     },
     "metadata": {},
     "output_type": "display_data"
    },
    {
     "data": {
      "application/vnd.jupyter.widget-view+json": {
       "model_id": "8e37da764540456b8ff966e9ddd42a6c",
       "version_major": 2,
       "version_minor": 0
      },
      "text/plain": [
       "chain 4 |          | 00:00 Status"
      ]
     },
     "metadata": {},
     "output_type": "display_data"
    },
    {
     "name": "stdout",
     "output_type": "stream",
     "text": [
      "                                                                                                                                                                                                                                                                                                                                "
     ]
    },
    {
     "name": "stderr",
     "output_type": "stream",
     "text": [
      "11:14:11 - cmdstanpy - INFO - CmdStan done processing.\n",
      "11:14:11 - cmdstanpy - WARNING - Some chains may have failed to converge.\n",
      "\tChain 1 had 433 divergent transitions (4.3%)\n",
      "\tChain 2 had 362 divergent transitions (3.6%)\n",
      "\tChain 3 had 446 divergent transitions (4.5%)\n",
      "\tUse the \"diagnose()\" method on the CmdStanMCMC object to see further information.\n"
     ]
    },
    {
     "name": "stdout",
     "output_type": "stream",
     "text": [
      "\n"
     ]
    },
    {
     "data": {
      "text/plain": [
       "1.0"
      ]
     },
     "execution_count": 4,
     "metadata": {},
     "output_type": "execute_result"
    }
   ],
   "source": [
    "num_seasons = 10\n",
    "num_equipes = 20\n",
    "home_force = abs(np.random.normal(0, 1))\n",
    "habilidades = np.random.normal(0, 1, num_equipes)\n",
    "df = generate_seasons(num_equipes, habilidades, num_seasons, home_force)\n",
    "\n",
    "modelo_compilado = cmdstanpy.CmdStanModel(stan_file='../models/model_2.stan', force_compile=False)\n",
    "dados_modelo = {\n",
    "    'num_jogos': len(df),\n",
    "    'num_equipes': num_equipes,\n",
    "    'equipe1': df['equipe1'].values,\n",
    "    'equipe2': df['equipe2'].values,\n",
    "    'vitoria_equipe1': df['vitoria_equipe1'].values,\n",
    "}\n",
    "\n",
    "ajuste = modelo_compilado.sample(data=dados_modelo, chains=4, iter_warmup=2000, iter_sampling=10000, show_console=False)\n",
    "habilidades += ajuste.summary()['Mean']['habilidade[1]'] - habilidades[0]\n",
    "inside_ci = (habilidades > ajuste.summary()['5%'].values[2:])\n",
    "inside_ci *= ((habilidades < ajuste.summary()['95%'].values[2:]))\n",
    "sum(inside_ci) / num_equipes"
   ]
  },
  {
   "cell_type": "code",
   "execution_count": 5,
   "metadata": {},
   "outputs": [
    {
     "data": {
      "text/plain": [
       "0.7274480028937723"
      ]
     },
     "execution_count": 5,
     "metadata": {},
     "output_type": "execute_result"
    }
   ],
   "source": [
    "home_force"
   ]
  },
  {
   "cell_type": "code",
   "execution_count": 6,
   "metadata": {},
   "outputs": [
    {
     "data": {
      "text/html": [
       "<div>\n",
       "<style scoped>\n",
       "    .dataframe tbody tr th:only-of-type {\n",
       "        vertical-align: middle;\n",
       "    }\n",
       "\n",
       "    .dataframe tbody tr th {\n",
       "        vertical-align: top;\n",
       "    }\n",
       "\n",
       "    .dataframe thead th {\n",
       "        text-align: right;\n",
       "    }\n",
       "</style>\n",
       "<table border=\"1\" class=\"dataframe\">\n",
       "  <thead>\n",
       "    <tr style=\"text-align: right;\">\n",
       "      <th></th>\n",
       "      <th>Mean</th>\n",
       "      <th>MCSE</th>\n",
       "      <th>StdDev</th>\n",
       "      <th>5%</th>\n",
       "      <th>50%</th>\n",
       "      <th>95%</th>\n",
       "      <th>N_Eff</th>\n",
       "      <th>N_Eff/s</th>\n",
       "      <th>R_hat</th>\n",
       "    </tr>\n",
       "  </thead>\n",
       "  <tbody>\n",
       "    <tr>\n",
       "      <th>lp__</th>\n",
       "      <td>8.450680e+06</td>\n",
       "      <td>3.572610e+06</td>\n",
       "      <td>5.797180e+06</td>\n",
       "      <td>148796.0000</td>\n",
       "      <td>1.033850e+07</td>\n",
       "      <td>1.644050e+07</td>\n",
       "      <td>2.63308</td>\n",
       "      <td>0.031038</td>\n",
       "      <td>3.18428</td>\n",
       "    </tr>\n",
       "    <tr>\n",
       "      <th>home_force</th>\n",
       "      <td>-1.184680e+01</td>\n",
       "      <td>2.379330e+01</td>\n",
       "      <td>3.365650e+01</td>\n",
       "      <td>-70.6512</td>\n",
       "      <td>7.583700e+00</td>\n",
       "      <td>8.066090e+00</td>\n",
       "      <td>2.00091</td>\n",
       "      <td>0.023586</td>\n",
       "      <td>88.00730</td>\n",
       "    </tr>\n",
       "    <tr>\n",
       "      <th>habilidade[1]</th>\n",
       "      <td>-2.453140e+01</td>\n",
       "      <td>3.040610e+01</td>\n",
       "      <td>4.300940e+01</td>\n",
       "      <td>-99.8478</td>\n",
       "      <td>5.534280e-01</td>\n",
       "      <td>1.646220e+00</td>\n",
       "      <td>2.00081</td>\n",
       "      <td>0.023585</td>\n",
       "      <td>90.97300</td>\n",
       "    </tr>\n",
       "    <tr>\n",
       "      <th>habilidade[2]</th>\n",
       "      <td>-2.686670e+01</td>\n",
       "      <td>3.272040e+01</td>\n",
       "      <td>4.628260e+01</td>\n",
       "      <td>-107.8320</td>\n",
       "      <td>-4.236550e-01</td>\n",
       "      <td>1.644350e+00</td>\n",
       "      <td>2.00078</td>\n",
       "      <td>0.023585</td>\n",
       "      <td>99.14940</td>\n",
       "    </tr>\n",
       "    <tr>\n",
       "      <th>habilidade[3]</th>\n",
       "      <td>-3.076870e+01</td>\n",
       "      <td>3.724510e+01</td>\n",
       "      <td>5.268230e+01</td>\n",
       "      <td>-122.8510</td>\n",
       "      <td>-1.061960e-01</td>\n",
       "      <td>6.532010e-04</td>\n",
       "      <td>2.00074</td>\n",
       "      <td>0.023584</td>\n",
       "      <td>113.02600</td>\n",
       "    </tr>\n",
       "    <tr>\n",
       "      <th>habilidade[4]</th>\n",
       "      <td>-2.581470e+01</td>\n",
       "      <td>3.274590e+01</td>\n",
       "      <td>4.631880e+01</td>\n",
       "      <td>-106.8450</td>\n",
       "      <td>1.886390e+00</td>\n",
       "      <td>2.070760e+00</td>\n",
       "      <td>2.00078</td>\n",
       "      <td>0.023585</td>\n",
       "      <td>97.52820</td>\n",
       "    </tr>\n",
       "    <tr>\n",
       "      <th>habilidade[5]</th>\n",
       "      <td>-3.743200e+01</td>\n",
       "      <td>4.537430e+01</td>\n",
       "      <td>6.417950e+01</td>\n",
       "      <td>-149.2120</td>\n",
       "      <td>-6.764570e-01</td>\n",
       "      <td>7.919420e-01</td>\n",
       "      <td>2.00065</td>\n",
       "      <td>0.023583</td>\n",
       "      <td>186.32000</td>\n",
       "    </tr>\n",
       "    <tr>\n",
       "      <th>habilidade[6]</th>\n",
       "      <td>-2.282080e+01</td>\n",
       "      <td>2.825540e+01</td>\n",
       "      <td>3.996750e+01</td>\n",
       "      <td>-92.8612</td>\n",
       "      <td>6.526330e-02</td>\n",
       "      <td>8.800750e-01</td>\n",
       "      <td>2.00083</td>\n",
       "      <td>0.023586</td>\n",
       "      <td>86.30150</td>\n",
       "    </tr>\n",
       "    <tr>\n",
       "      <th>habilidade[7]</th>\n",
       "      <td>-3.395150e+01</td>\n",
       "      <td>4.246920e+01</td>\n",
       "      <td>6.007020e+01</td>\n",
       "      <td>-138.5610</td>\n",
       "      <td>1.285180e+00</td>\n",
       "      <td>1.934780e+00</td>\n",
       "      <td>2.00065</td>\n",
       "      <td>0.023583</td>\n",
       "      <td>185.93500</td>\n",
       "    </tr>\n",
       "    <tr>\n",
       "      <th>habilidade[8]</th>\n",
       "      <td>-2.940580e+01</td>\n",
       "      <td>3.657600e+01</td>\n",
       "      <td>5.173580e+01</td>\n",
       "      <td>-119.8290</td>\n",
       "      <td>4.531020e-01</td>\n",
       "      <td>7.225180e-01</td>\n",
       "      <td>2.00074</td>\n",
       "      <td>0.023584</td>\n",
       "      <td>113.30000</td>\n",
       "    </tr>\n",
       "    <tr>\n",
       "      <th>habilidade[9]</th>\n",
       "      <td>-3.475430e+01</td>\n",
       "      <td>4.291430e+01</td>\n",
       "      <td>6.069980e+01</td>\n",
       "      <td>-140.4630</td>\n",
       "      <td>6.716080e-01</td>\n",
       "      <td>1.134040e+00</td>\n",
       "      <td>2.00065</td>\n",
       "      <td>0.023583</td>\n",
       "      <td>187.23300</td>\n",
       "    </tr>\n",
       "    <tr>\n",
       "      <th>habilidade[10]</th>\n",
       "      <td>-3.594410e+01</td>\n",
       "      <td>4.318350e+01</td>\n",
       "      <td>6.108090e+01</td>\n",
       "      <td>-142.4350</td>\n",
       "      <td>-4.986620e-01</td>\n",
       "      <td>3.070720e-01</td>\n",
       "      <td>2.00067</td>\n",
       "      <td>0.023584</td>\n",
       "      <td>158.33500</td>\n",
       "    </tr>\n",
       "    <tr>\n",
       "      <th>habilidade[11]</th>\n",
       "      <td>-2.506920e+01</td>\n",
       "      <td>3.223170e+01</td>\n",
       "      <td>4.559140e+01</td>\n",
       "      <td>-104.8630</td>\n",
       "      <td>1.978970e+00</td>\n",
       "      <td>2.161500e+00</td>\n",
       "      <td>2.00078</td>\n",
       "      <td>0.023585</td>\n",
       "      <td>97.45340</td>\n",
       "    </tr>\n",
       "    <tr>\n",
       "      <th>habilidade[12]</th>\n",
       "      <td>-3.012920e+01</td>\n",
       "      <td>3.750520e+01</td>\n",
       "      <td>5.305010e+01</td>\n",
       "      <td>-122.8320</td>\n",
       "      <td>5.895360e-01</td>\n",
       "      <td>1.974850e+00</td>\n",
       "      <td>2.00074</td>\n",
       "      <td>0.023584</td>\n",
       "      <td>112.81200</td>\n",
       "    </tr>\n",
       "    <tr>\n",
       "      <th>habilidade[13]</th>\n",
       "      <td>-2.132510e+01</td>\n",
       "      <td>2.686620e+01</td>\n",
       "      <td>3.800200e+01</td>\n",
       "      <td>-87.8145</td>\n",
       "      <td>9.254690e-01</td>\n",
       "      <td>1.445660e+00</td>\n",
       "      <td>2.00078</td>\n",
       "      <td>0.023585</td>\n",
       "      <td>99.33060</td>\n",
       "    </tr>\n",
       "    <tr>\n",
       "      <th>habilidade[14]</th>\n",
       "      <td>-3.833460e+01</td>\n",
       "      <td>4.797000e+01</td>\n",
       "      <td>6.785090e+01</td>\n",
       "      <td>-156.5330</td>\n",
       "      <td>1.505910e+00</td>\n",
       "      <td>1.537110e+00</td>\n",
       "      <td>2.00066</td>\n",
       "      <td>0.023584</td>\n",
       "      <td>176.60800</td>\n",
       "    </tr>\n",
       "    <tr>\n",
       "      <th>habilidade[15]</th>\n",
       "      <td>-1.916230e+01</td>\n",
       "      <td>2.449470e+01</td>\n",
       "      <td>3.464750e+01</td>\n",
       "      <td>-79.7718</td>\n",
       "      <td>3.811750e-01</td>\n",
       "      <td>1.780230e+00</td>\n",
       "      <td>2.00077</td>\n",
       "      <td>0.023585</td>\n",
       "      <td>100.33800</td>\n",
       "    </tr>\n",
       "    <tr>\n",
       "      <th>habilidade[16]</th>\n",
       "      <td>-3.777160e+01</td>\n",
       "      <td>4.510190e+01</td>\n",
       "      <td>6.379410e+01</td>\n",
       "      <td>-148.8890</td>\n",
       "      <td>-1.569630e+00</td>\n",
       "      <td>6.559440e-01</td>\n",
       "      <td>2.00065</td>\n",
       "      <td>0.023583</td>\n",
       "      <td>183.49000</td>\n",
       "    </tr>\n",
       "    <tr>\n",
       "      <th>habilidade[17]</th>\n",
       "      <td>-3.214060e+01</td>\n",
       "      <td>3.913390e+01</td>\n",
       "      <td>5.535380e+01</td>\n",
       "      <td>-128.8400</td>\n",
       "      <td>-9.150870e-01</td>\n",
       "      <td>1.346080e+00</td>\n",
       "      <td>2.00073</td>\n",
       "      <td>0.023584</td>\n",
       "      <td>117.89300</td>\n",
       "    </tr>\n",
       "    <tr>\n",
       "      <th>habilidade[18]</th>\n",
       "      <td>-1.749900e+01</td>\n",
       "      <td>2.093900e+01</td>\n",
       "      <td>2.961830e+01</td>\n",
       "      <td>-69.3303</td>\n",
       "      <td>-1.328120e+00</td>\n",
       "      <td>1.459400e+00</td>\n",
       "      <td>2.00081</td>\n",
       "      <td>0.023585</td>\n",
       "      <td>91.74020</td>\n",
       "    </tr>\n",
       "    <tr>\n",
       "      <th>habilidade[19]</th>\n",
       "      <td>-3.501510e+01</td>\n",
       "      <td>4.189410e+01</td>\n",
       "      <td>5.925690e+01</td>\n",
       "      <td>-138.2200</td>\n",
       "      <td>-1.795020e+00</td>\n",
       "      <td>1.196840e+00</td>\n",
       "      <td>2.00065</td>\n",
       "      <td>0.023583</td>\n",
       "      <td>180.27700</td>\n",
       "    </tr>\n",
       "    <tr>\n",
       "      <th>habilidade[20]</th>\n",
       "      <td>-3.224800e+01</td>\n",
       "      <td>3.867690e+01</td>\n",
       "      <td>5.470740e+01</td>\n",
       "      <td>-127.8310</td>\n",
       "      <td>-5.515930e-01</td>\n",
       "      <td>-2.196780e-01</td>\n",
       "      <td>2.00073</td>\n",
       "      <td>0.023584</td>\n",
       "      <td>118.02800</td>\n",
       "    </tr>\n",
       "  </tbody>\n",
       "</table>\n",
       "</div>"
      ],
      "text/plain": [
       "                        Mean          MCSE        StdDev           5%   \n",
       "lp__            8.450680e+06  3.572610e+06  5.797180e+06  148796.0000  \\\n",
       "home_force     -1.184680e+01  2.379330e+01  3.365650e+01     -70.6512   \n",
       "habilidade[1]  -2.453140e+01  3.040610e+01  4.300940e+01     -99.8478   \n",
       "habilidade[2]  -2.686670e+01  3.272040e+01  4.628260e+01    -107.8320   \n",
       "habilidade[3]  -3.076870e+01  3.724510e+01  5.268230e+01    -122.8510   \n",
       "habilidade[4]  -2.581470e+01  3.274590e+01  4.631880e+01    -106.8450   \n",
       "habilidade[5]  -3.743200e+01  4.537430e+01  6.417950e+01    -149.2120   \n",
       "habilidade[6]  -2.282080e+01  2.825540e+01  3.996750e+01     -92.8612   \n",
       "habilidade[7]  -3.395150e+01  4.246920e+01  6.007020e+01    -138.5610   \n",
       "habilidade[8]  -2.940580e+01  3.657600e+01  5.173580e+01    -119.8290   \n",
       "habilidade[9]  -3.475430e+01  4.291430e+01  6.069980e+01    -140.4630   \n",
       "habilidade[10] -3.594410e+01  4.318350e+01  6.108090e+01    -142.4350   \n",
       "habilidade[11] -2.506920e+01  3.223170e+01  4.559140e+01    -104.8630   \n",
       "habilidade[12] -3.012920e+01  3.750520e+01  5.305010e+01    -122.8320   \n",
       "habilidade[13] -2.132510e+01  2.686620e+01  3.800200e+01     -87.8145   \n",
       "habilidade[14] -3.833460e+01  4.797000e+01  6.785090e+01    -156.5330   \n",
       "habilidade[15] -1.916230e+01  2.449470e+01  3.464750e+01     -79.7718   \n",
       "habilidade[16] -3.777160e+01  4.510190e+01  6.379410e+01    -148.8890   \n",
       "habilidade[17] -3.214060e+01  3.913390e+01  5.535380e+01    -128.8400   \n",
       "habilidade[18] -1.749900e+01  2.093900e+01  2.961830e+01     -69.3303   \n",
       "habilidade[19] -3.501510e+01  4.189410e+01  5.925690e+01    -138.2200   \n",
       "habilidade[20] -3.224800e+01  3.867690e+01  5.470740e+01    -127.8310   \n",
       "\n",
       "                         50%           95%    N_Eff   N_Eff/s      R_hat  \n",
       "lp__            1.033850e+07  1.644050e+07  2.63308  0.031038    3.18428  \n",
       "home_force      7.583700e+00  8.066090e+00  2.00091  0.023586   88.00730  \n",
       "habilidade[1]   5.534280e-01  1.646220e+00  2.00081  0.023585   90.97300  \n",
       "habilidade[2]  -4.236550e-01  1.644350e+00  2.00078  0.023585   99.14940  \n",
       "habilidade[3]  -1.061960e-01  6.532010e-04  2.00074  0.023584  113.02600  \n",
       "habilidade[4]   1.886390e+00  2.070760e+00  2.00078  0.023585   97.52820  \n",
       "habilidade[5]  -6.764570e-01  7.919420e-01  2.00065  0.023583  186.32000  \n",
       "habilidade[6]   6.526330e-02  8.800750e-01  2.00083  0.023586   86.30150  \n",
       "habilidade[7]   1.285180e+00  1.934780e+00  2.00065  0.023583  185.93500  \n",
       "habilidade[8]   4.531020e-01  7.225180e-01  2.00074  0.023584  113.30000  \n",
       "habilidade[9]   6.716080e-01  1.134040e+00  2.00065  0.023583  187.23300  \n",
       "habilidade[10] -4.986620e-01  3.070720e-01  2.00067  0.023584  158.33500  \n",
       "habilidade[11]  1.978970e+00  2.161500e+00  2.00078  0.023585   97.45340  \n",
       "habilidade[12]  5.895360e-01  1.974850e+00  2.00074  0.023584  112.81200  \n",
       "habilidade[13]  9.254690e-01  1.445660e+00  2.00078  0.023585   99.33060  \n",
       "habilidade[14]  1.505910e+00  1.537110e+00  2.00066  0.023584  176.60800  \n",
       "habilidade[15]  3.811750e-01  1.780230e+00  2.00077  0.023585  100.33800  \n",
       "habilidade[16] -1.569630e+00  6.559440e-01  2.00065  0.023583  183.49000  \n",
       "habilidade[17] -9.150870e-01  1.346080e+00  2.00073  0.023584  117.89300  \n",
       "habilidade[18] -1.328120e+00  1.459400e+00  2.00081  0.023585   91.74020  \n",
       "habilidade[19] -1.795020e+00  1.196840e+00  2.00065  0.023583  180.27700  \n",
       "habilidade[20] -5.515930e-01 -2.196780e-01  2.00073  0.023584  118.02800  "
      ]
     },
     "execution_count": 6,
     "metadata": {},
     "output_type": "execute_result"
    }
   ],
   "source": [
    "ajuste.summary()"
   ]
  },
  {
   "cell_type": "code",
   "execution_count": null,
   "metadata": {},
   "outputs": [],
   "source": []
  }
 ],
 "metadata": {
  "kernelspec": {
   "display_name": "Python 3",
   "language": "python",
   "name": "python3"
  },
  "language_info": {
   "codemirror_mode": {
    "name": "ipython",
    "version": 3
   },
   "file_extension": ".py",
   "mimetype": "text/x-python",
   "name": "python",
   "nbconvert_exporter": "python",
   "pygments_lexer": "ipython3",
   "version": "3.8.12"
  },
  "orig_nbformat": 4,
  "vscode": {
   "interpreter": {
    "hash": "68a818ea200cf26246555ed215b2805781440e4bd9c1dd7c5d891140b3a1e7c0"
   }
  }
 },
 "nbformat": 4,
 "nbformat_minor": 2
}
