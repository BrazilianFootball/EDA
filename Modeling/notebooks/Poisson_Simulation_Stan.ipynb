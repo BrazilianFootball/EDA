{
 "cells": [
  {
   "cell_type": "code",
   "execution_count": 1,
   "metadata": {},
   "outputs": [
    {
     "name": "stdout",
     "output_type": "stream",
     "text": [
      "CmdStan install directory: /Users/igor.michels/.cmdstan\n",
      "CmdStan version 2.34.1 already installed\n",
      "Test model compilation\n"
     ]
    }
   ],
   "source": [
    "import cmdstanpy\n",
    "import numpy as np\n",
    "import pandas as pd\n",
    "\n",
    "from IPython.display import clear_output\n",
    "from itertools import product\n",
    "cmdstanpy.install_cmdstan();"
   ]
  },
  {
   "cell_type": "code",
   "execution_count": 2,
   "metadata": {},
   "outputs": [],
   "source": [
    "NUM_SEASONS = 1\n",
    "NUM_TEAMS = 20"
   ]
  },
  {
   "cell_type": "code",
   "execution_count": 3,
   "metadata": {},
   "outputs": [],
   "source": [
    "def generate_matchups(n_equipes, habilidades, home_force):\n",
    "    if home_force is None: home_force = 0\n",
    "    confrontos = []\n",
    "    for equipe1, equipe2 in product(range(1, n_equipes + 1), repeat=2):\n",
    "        if equipe1 == equipe2: continue\n",
    "        home_score = np.random.poisson(lam=(habilidades[equipe1 - 1] + home_force) / habilidades[equipe2 - 1])\n",
    "        away_score = np.random.poisson(lam=habilidades[equipe2 - 1] / habilidades[equipe1 - 1])\n",
    "        confrontos.append({\n",
    "            'equipe1': equipe1,\n",
    "            'equipe2': equipe2,\n",
    "            'gols_equipe1': home_score,\n",
    "            'gols_equipe2': away_score\n",
    "        })\n",
    "\n",
    "    df_confrontos = pd.DataFrame(confrontos)\n",
    "\n",
    "    return df_confrontos\n",
    "\n",
    "def generate_seasons(n_equipes, habilidades, n_seasons, home_force=None):\n",
    "    df = pd.DataFrame()\n",
    "    for _ in range(n_seasons):\n",
    "        df = pd.concat([df, generate_matchups(n_equipes, habilidades, home_force)])\n",
    "    \n",
    "    return df"
   ]
  },
  {
   "cell_type": "code",
   "execution_count": 4,
   "metadata": {},
   "outputs": [
    {
     "data": {
      "text/plain": [
       "1.0"
      ]
     },
     "execution_count": 4,
     "metadata": {},
     "output_type": "execute_result"
    }
   ],
   "source": [
    "habilidades = abs(np.random.normal(0, 1, NUM_TEAMS))\n",
    "habilidades /= habilidades[0]\n",
    "df = generate_seasons(NUM_TEAMS, habilidades, NUM_SEASONS)\n",
    "\n",
    "modelo_compilado = cmdstanpy.CmdStanModel(stan_file='../models/Poisson_model.stan', force_compile=False)\n",
    "dados_modelo = {\n",
    "    'num_jogos': len(df),\n",
    "    'num_equipes': NUM_TEAMS,\n",
    "    'equipe1': df['equipe1'].values,\n",
    "    'equipe2': df['equipe2'].values,\n",
    "    'gols_equipe1': df['gols_equipe1'].values,\n",
    "    'gols_equipe2': df['gols_equipe2'].values,\n",
    "}\n",
    "\n",
    "ajuste = modelo_compilado.sample(data=dados_modelo, chains=4, iter_warmup=2000, iter_sampling=10000, show_console=False)\n",
    "results = ajuste.summary() / ajuste.summary()['Mean']['habilidade[1]']\n",
    "inside_ci = (habilidades > results['5%'].values[1:])\n",
    "inside_ci *= ((habilidades < results['95%'].values[1:]))\n",
    "\n",
    "clear_output()\n",
    "sum(inside_ci) / NUM_TEAMS"
   ]
  },
  {
   "cell_type": "code",
   "execution_count": 5,
   "metadata": {},
   "outputs": [
    {
     "data": {
      "text/plain": [
       "0.95"
      ]
     },
     "execution_count": 5,
     "metadata": {},
     "output_type": "execute_result"
    }
   ],
   "source": [
    "home_force = abs(np.random.normal(0, 1))\n",
    "habilidades = abs(np.random.normal(0, 1, NUM_TEAMS))\n",
    "\n",
    "habilidades /= home_force\n",
    "home_force = 1\n",
    "\n",
    "df = generate_seasons(NUM_TEAMS, habilidades, NUM_SEASONS, home_force)\n",
    "modelo_compilado = cmdstanpy.CmdStanModel(stan_file='../models/Poisson_model_2.stan', force_compile=False)\n",
    "dados_modelo = {\n",
    "    'num_jogos': len(df),\n",
    "    'num_equipes': NUM_TEAMS,\n",
    "    'equipe1': df['equipe1'].values,\n",
    "    'equipe2': df['equipe2'].values,\n",
    "    'gols_equipe1': df['gols_equipe1'].values,\n",
    "    'gols_equipe2': df['gols_equipe2'].values,\n",
    "}\n",
    "\n",
    "ajuste = modelo_compilado.sample(data=dados_modelo, chains=4, iter_warmup=2000, iter_sampling=10000, show_console=False)\n",
    "inside_ci = (habilidades > ajuste.summary()['5%'].values[1:])\n",
    "inside_ci *= ((habilidades < ajuste.summary()['95%'].values[1:]))\n",
    "\n",
    "clear_output()\n",
    "sum(inside_ci) / NUM_TEAMS"
   ]
  },
  {
   "cell_type": "code",
   "execution_count": null,
   "metadata": {},
   "outputs": [],
   "source": []
  }
 ],
 "metadata": {
  "kernelspec": {
   "display_name": "Python 3",
   "language": "python",
   "name": "python3"
  },
  "language_info": {
   "codemirror_mode": {
    "name": "ipython",
    "version": 3
   },
   "file_extension": ".py",
   "mimetype": "text/x-python",
   "name": "python",
   "nbconvert_exporter": "python",
   "pygments_lexer": "ipython3",
   "version": "3.8.12"
  },
  "orig_nbformat": 4,
  "vscode": {
   "interpreter": {
    "hash": "68a818ea200cf26246555ed215b2805781440e4bd9c1dd7c5d891140b3a1e7c0"
   }
  }
 },
 "nbformat": 4,
 "nbformat_minor": 2
}
