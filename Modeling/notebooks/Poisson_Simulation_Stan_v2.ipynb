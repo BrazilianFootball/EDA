{
 "cells": [
  {
   "cell_type": "code",
   "execution_count": 1,
   "metadata": {},
   "outputs": [
    {
     "name": "stdout",
     "output_type": "stream",
     "text": [
      "CmdStan install directory: /Users/igor.michels/.cmdstan\n",
      "CmdStan version 2.34.1 already installed\n",
      "Test model compilation\n"
     ]
    }
   ],
   "source": [
    "import cmdstanpy\n",
    "import numpy as np\n",
    "import pandas as pd\n",
    "\n",
    "from random import shuffle\n",
    "from itertools import product\n",
    "from IPython.display import clear_output\n",
    "\n",
    "cmdstanpy.install_cmdstan();"
   ]
  },
  {
   "cell_type": "code",
   "execution_count": 2,
   "metadata": {},
   "outputs": [],
   "source": [
    "NUM_SEASONS = 1\n",
    "NUM_TEAMS = 20\n",
    "NUM_PLAYERS_PER_TEAM = 12"
   ]
  },
  {
   "cell_type": "code",
   "execution_count": 3,
   "metadata": {},
   "outputs": [],
   "source": [
    "def generate_matchups(n_teams, n_players_per_team, skills, home_force):\n",
    "    if home_force is None: home_force = 0\n",
    "    games = []\n",
    "    for home_team, away_team in product(range(n_teams), repeat=2):\n",
    "        if home_team == away_team: continue\n",
    "        \n",
    "        home_players = np.arange(n_players_per_team)\n",
    "        away_players = np.arange(n_players_per_team)\n",
    "        shuffle(home_players)\n",
    "        shuffle(away_players)\n",
    "        home_players = home_players[:11]\n",
    "        away_players = away_players[:11]\n",
    "\n",
    "        home_skill = sum(skills[home_team * n_players_per_team + home_players])\n",
    "        away_skill = sum(skills[away_team * n_players_per_team + away_players])\n",
    "\n",
    "        home_score = np.random.poisson((home_skill + home_force) / away_skill)\n",
    "        away_score = np.random.poisson(away_skill / home_skill)\n",
    "        games.append({\n",
    "            'home_team': home_team,\n",
    "            'away_team': away_team,\n",
    "            'home_score': home_score,\n",
    "            'away_score': away_score,\n",
    "            'home_players': home_players,\n",
    "            'away_players': away_players,\n",
    "        })\n",
    "\n",
    "    df = pd.DataFrame(games)\n",
    "\n",
    "    return df\n",
    "\n",
    "def generate_seasons(n_teams, n_players_per_team, skills, n_seasons, home_force=None):\n",
    "    df = pd.DataFrame()\n",
    "    for _ in range(n_seasons):\n",
    "        df = pd.concat([df, generate_matchups(n_teams, n_players_per_team, skills, home_force)])\n",
    "    \n",
    "    return df"
   ]
  },
  {
   "cell_type": "code",
   "execution_count": 4,
   "metadata": {},
   "outputs": [
    {
     "data": {
      "text/plain": [
       "0.9375"
      ]
     },
     "execution_count": 4,
     "metadata": {},
     "output_type": "execute_result"
    }
   ],
   "source": [
    "skills = abs(np.random.normal(0, 1, NUM_TEAMS * NUM_PLAYERS_PER_TEAM))\n",
    "skills /= skills[0]\n",
    "df = generate_seasons(NUM_TEAMS, NUM_PLAYERS_PER_TEAM, skills, NUM_SEASONS)\n",
    "\n",
    "home_players = df['home_players'].values\n",
    "away_players = df['home_players'].values\n",
    "\n",
    "home_players = np.array([list(sub_array) for sub_array in home_players])\n",
    "away_players = np.array([list(sub_array) for sub_array in away_players])\n",
    "\n",
    "model_data = {\n",
    "    'n_games': len(df),\n",
    "    'n_teams': NUM_TEAMS,\n",
    "    'n_players_per_team': NUM_PLAYERS_PER_TEAM,\n",
    "    'home_team': df['home_team'].values,\n",
    "    'away_team': df['away_team'].values,\n",
    "    'home_score': df['home_score'].values,\n",
    "    'away_score': df['away_score'].values,\n",
    "    'home_players': home_players + 1,\n",
    "    'away_players': away_players + 1,\n",
    "}\n",
    "\n",
    "model = cmdstanpy.CmdStanModel(stan_file='../models/Poisson_model_v2.stan', force_compile=True)\n",
    "fitting = model.sample(data=model_data, chains=4, iter_warmup=2000, iter_sampling=10000, show_console=False)\n",
    "results = fitting.summary() / fitting.summary()['Mean']['skills[1]']\n",
    "inside_ci = (skills > results['5%'].values[1:])\n",
    "inside_ci *= ((skills < results['95%'].values[1:]))\n",
    "\n",
    "clear_output()\n",
    "sum(inside_ci) / (NUM_TEAMS * NUM_PLAYERS_PER_TEAM)"
   ]
  },
  {
   "cell_type": "code",
   "execution_count": 5,
   "metadata": {},
   "outputs": [],
   "source": [
    "# home_force = abs(np.random.normal(0, 1))\n",
    "# habilidades = abs(np.random.normal(0, 1, NUM_TEAMS))\n",
    "\n",
    "# habilidades /= home_force\n",
    "# home_force = 1\n",
    "\n",
    "# df = generate_seasons(NUM_TEAMS, habilidades, NUM_SEASONS, home_force)\n",
    "# modelo_compilado = cmdstanpy.CmdStanModel(stan_file='../models/Poisson_model_2.stan', force_compile=False)\n",
    "# dados_modelo = {\n",
    "#     'num_jogos': len(df),\n",
    "#     'num_equipes': NUM_TEAMS,\n",
    "#     'equipe1': df['equipe1'].values,\n",
    "#     'equipe2': df['equipe2'].values,\n",
    "#     'gols_equipe1': df['gols_equipe1'].values,\n",
    "#     'gols_equipe2': df['gols_equipe2'].values,\n",
    "# }\n",
    "\n",
    "# ajuste = modelo_compilado.sample(data=dados_modelo, chains=4, iter_warmup=2000, iter_sampling=10000, show_console=False)\n",
    "# inside_ci = (habilidades > ajuste.summary()['5%'].values[1:])\n",
    "# inside_ci *= ((habilidades < ajuste.summary()['95%'].values[1:]))\n",
    "\n",
    "# clear_output()\n",
    "# sum(inside_ci) / NUM_TEAMS"
   ]
  },
  {
   "cell_type": "code",
   "execution_count": null,
   "metadata": {},
   "outputs": [],
   "source": []
  }
 ],
 "metadata": {
  "kernelspec": {
   "display_name": "Python 3",
   "language": "python",
   "name": "python3"
  },
  "language_info": {
   "codemirror_mode": {
    "name": "ipython",
    "version": 3
   },
   "file_extension": ".py",
   "mimetype": "text/x-python",
   "name": "python",
   "nbconvert_exporter": "python",
   "pygments_lexer": "ipython3",
   "version": "3.8.12"
  },
  "orig_nbformat": 4,
  "vscode": {
   "interpreter": {
    "hash": "68a818ea200cf26246555ed215b2805781440e4bd9c1dd7c5d891140b3a1e7c0"
   }
  }
 },
 "nbformat": 4,
 "nbformat_minor": 2
}
